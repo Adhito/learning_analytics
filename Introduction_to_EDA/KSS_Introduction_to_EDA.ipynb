{
  "nbformat": 4,
  "nbformat_minor": 0,
  "metadata": {
    "kernelspec": {
      "display_name": "Python 3",
      "language": "python",
      "name": "python3"
    },
    "language_info": {
      "codemirror_mode": {
        "name": "ipython",
        "version": 3
      },
      "file_extension": ".py",
      "mimetype": "text/x-python",
      "name": "python",
      "nbconvert_exporter": "python",
      "pygments_lexer": "ipython3",
      "version": "3.6.4"
    },
    "colab": {
      "name": "KSS_Introduction_to_EDA",
      "provenance": [],
      "collapsed_sections": [
        "aROJw2BFi8fq",
        "Wi9gwlbni8f5",
        "OxpE02kKi8fv"
      ],
      "toc_visible": true
    }
  },
  "cells": [
    {
      "cell_type": "markdown",
      "metadata": {
        "id": "mRUZJo0Eev9z"
      },
      "source": [
        "# PART 1 - Mounting and cleaning our data"
      ]
    },
    {
      "cell_type": "code",
      "metadata": {
        "id": "KUoA7Ii1i8dB"
      },
      "source": [
        "import pandas as pd\n",
        "import numpy as np\n",
        "import matplotlib.pyplot as plt\n",
        "import seaborn as sns"
      ],
      "execution_count": 6,
      "outputs": []
    },
    {
      "cell_type": "code",
      "metadata": {
        "id": "ixxjkIIRi8dI"
      },
      "source": [
        "# The dataset contains structured data about cars, however some of the data is empty\n",
        "# Load csv files\n",
        "risk = pd.read_csv('https://raw.githubusercontent.com/Adhito/learning_analytics/main/Introduction_to_EDA/Automobile%20Dataset/automobile-risk.csv')\n",
        "spec = pd.read_csv('https://raw.githubusercontent.com/Adhito/learning_analytics/main/Introduction_to_EDA/Automobile%20Dataset/automobile-spec.csv')"
      ],
      "execution_count": 7,
      "outputs": []
    },
    {
      "cell_type": "code",
      "metadata": {
        "id": "eHaon4WVi8dQ",
        "colab": {
          "base_uri": "https://localhost:8080/",
          "height": 198
        },
        "outputId": "148434d1-51ef-4f16-c19f-eb7bb48ab9a6"
      },
      "source": [
        "# Check first 5 data of risk dataframe\n",
        "risk.head()"
      ],
      "execution_count": 8,
      "outputs": [
        {
          "output_type": "execute_result",
          "data": {
            "text/html": [
              "<div>\n",
              "<style scoped>\n",
              "    .dataframe tbody tr th:only-of-type {\n",
              "        vertical-align: middle;\n",
              "    }\n",
              "\n",
              "    .dataframe tbody tr th {\n",
              "        vertical-align: top;\n",
              "    }\n",
              "\n",
              "    .dataframe thead th {\n",
              "        text-align: right;\n",
              "    }\n",
              "</style>\n",
              "<table border=\"1\" class=\"dataframe\">\n",
              "  <thead>\n",
              "    <tr style=\"text-align: right;\">\n",
              "      <th></th>\n",
              "      <th>ID</th>\n",
              "      <th>symboling</th>\n",
              "    </tr>\n",
              "  </thead>\n",
              "  <tbody>\n",
              "    <tr>\n",
              "      <th>0</th>\n",
              "      <td>1</td>\n",
              "      <td>3</td>\n",
              "    </tr>\n",
              "    <tr>\n",
              "      <th>1</th>\n",
              "      <td>2</td>\n",
              "      <td>3</td>\n",
              "    </tr>\n",
              "    <tr>\n",
              "      <th>2</th>\n",
              "      <td>3</td>\n",
              "      <td>1</td>\n",
              "    </tr>\n",
              "    <tr>\n",
              "      <th>3</th>\n",
              "      <td>4</td>\n",
              "      <td>2</td>\n",
              "    </tr>\n",
              "    <tr>\n",
              "      <th>4</th>\n",
              "      <td>5</td>\n",
              "      <td>2</td>\n",
              "    </tr>\n",
              "  </tbody>\n",
              "</table>\n",
              "</div>"
            ],
            "text/plain": [
              "   ID  symboling\n",
              "0   1          3\n",
              "1   2          3\n",
              "2   3          1\n",
              "3   4          2\n",
              "4   5          2"
            ]
          },
          "metadata": {
            "tags": []
          },
          "execution_count": 8
        }
      ]
    },
    {
      "cell_type": "code",
      "metadata": {
        "id": "7WdtKjNUck9x",
        "colab": {
          "base_uri": "https://localhost:8080/",
          "height": 198
        },
        "outputId": "018d221a-e095-41dd-f4f0-1e7f863e6a81"
      },
      "source": [
        "# Rename a risk dataframe column\n",
        "risk = risk.rename(columns={\"symboling\": \"risk_level\"})\n",
        "risk.head()"
      ],
      "execution_count": 9,
      "outputs": [
        {
          "output_type": "execute_result",
          "data": {
            "text/html": [
              "<div>\n",
              "<style scoped>\n",
              "    .dataframe tbody tr th:only-of-type {\n",
              "        vertical-align: middle;\n",
              "    }\n",
              "\n",
              "    .dataframe tbody tr th {\n",
              "        vertical-align: top;\n",
              "    }\n",
              "\n",
              "    .dataframe thead th {\n",
              "        text-align: right;\n",
              "    }\n",
              "</style>\n",
              "<table border=\"1\" class=\"dataframe\">\n",
              "  <thead>\n",
              "    <tr style=\"text-align: right;\">\n",
              "      <th></th>\n",
              "      <th>ID</th>\n",
              "      <th>risk_level</th>\n",
              "    </tr>\n",
              "  </thead>\n",
              "  <tbody>\n",
              "    <tr>\n",
              "      <th>0</th>\n",
              "      <td>1</td>\n",
              "      <td>3</td>\n",
              "    </tr>\n",
              "    <tr>\n",
              "      <th>1</th>\n",
              "      <td>2</td>\n",
              "      <td>3</td>\n",
              "    </tr>\n",
              "    <tr>\n",
              "      <th>2</th>\n",
              "      <td>3</td>\n",
              "      <td>1</td>\n",
              "    </tr>\n",
              "    <tr>\n",
              "      <th>3</th>\n",
              "      <td>4</td>\n",
              "      <td>2</td>\n",
              "    </tr>\n",
              "    <tr>\n",
              "      <th>4</th>\n",
              "      <td>5</td>\n",
              "      <td>2</td>\n",
              "    </tr>\n",
              "  </tbody>\n",
              "</table>\n",
              "</div>"
            ],
            "text/plain": [
              "   ID  risk_level\n",
              "0   1           3\n",
              "1   2           3\n",
              "2   3           1\n",
              "3   4           2\n",
              "4   5           2"
            ]
          },
          "metadata": {
            "tags": []
          },
          "execution_count": 9
        }
      ]
    },
    {
      "cell_type": "code",
      "metadata": {
        "id": "ItWI7V10i8dZ",
        "colab": {
          "base_uri": "https://localhost:8080/",
          "height": 305
        },
        "outputId": "2384f668-6ed9-499b-a144-c81e6ffcb15b"
      },
      "source": [
        "# Check first 5 data of spec dataframe\n",
        "spec.head()"
      ],
      "execution_count": 10,
      "outputs": [
        {
          "output_type": "execute_result",
          "data": {
            "text/html": [
              "<div>\n",
              "<style scoped>\n",
              "    .dataframe tbody tr th:only-of-type {\n",
              "        vertical-align: middle;\n",
              "    }\n",
              "\n",
              "    .dataframe tbody tr th {\n",
              "        vertical-align: top;\n",
              "    }\n",
              "\n",
              "    .dataframe thead th {\n",
              "        text-align: right;\n",
              "    }\n",
              "</style>\n",
              "<table border=\"1\" class=\"dataframe\">\n",
              "  <thead>\n",
              "    <tr style=\"text-align: right;\">\n",
              "      <th></th>\n",
              "      <th>ID</th>\n",
              "      <th>make</th>\n",
              "      <th>fuel-type</th>\n",
              "      <th>aspiration</th>\n",
              "      <th>num-of-doors</th>\n",
              "      <th>body-style</th>\n",
              "      <th>drive-wheel</th>\n",
              "      <th>engine-loc</th>\n",
              "      <th>wheel-base</th>\n",
              "      <th>length</th>\n",
              "      <th>width</th>\n",
              "      <th>height</th>\n",
              "      <th>curb-weight</th>\n",
              "      <th>engine-type</th>\n",
              "      <th>cylinder</th>\n",
              "      <th>engine-size</th>\n",
              "      <th>fuel-system</th>\n",
              "      <th>bore</th>\n",
              "      <th>stroke</th>\n",
              "      <th>compression-ratio</th>\n",
              "      <th>horsepower</th>\n",
              "      <th>peak-rpm</th>\n",
              "      <th>city-mpg</th>\n",
              "      <th>highway-mpg</th>\n",
              "      <th>price</th>\n",
              "    </tr>\n",
              "  </thead>\n",
              "  <tbody>\n",
              "    <tr>\n",
              "      <th>0</th>\n",
              "      <td>1</td>\n",
              "      <td>alfa-romero</td>\n",
              "      <td>gas</td>\n",
              "      <td>std</td>\n",
              "      <td>two</td>\n",
              "      <td>convertible</td>\n",
              "      <td>rwd</td>\n",
              "      <td>front</td>\n",
              "      <td>88.6</td>\n",
              "      <td>168.8</td>\n",
              "      <td>64.1</td>\n",
              "      <td>48.8</td>\n",
              "      <td>2548</td>\n",
              "      <td>dohc</td>\n",
              "      <td>four</td>\n",
              "      <td>130</td>\n",
              "      <td>mpfi</td>\n",
              "      <td>3.47</td>\n",
              "      <td>2.68</td>\n",
              "      <td>9.0</td>\n",
              "      <td>111.0</td>\n",
              "      <td>5000.0</td>\n",
              "      <td>21</td>\n",
              "      <td>27</td>\n",
              "      <td>13495.0</td>\n",
              "    </tr>\n",
              "    <tr>\n",
              "      <th>1</th>\n",
              "      <td>2</td>\n",
              "      <td>alfa-romero</td>\n",
              "      <td>gas</td>\n",
              "      <td>std</td>\n",
              "      <td>two</td>\n",
              "      <td>convertible</td>\n",
              "      <td>rwd</td>\n",
              "      <td>front</td>\n",
              "      <td>88.6</td>\n",
              "      <td>168.8</td>\n",
              "      <td>64.1</td>\n",
              "      <td>48.8</td>\n",
              "      <td>2548</td>\n",
              "      <td>dohc</td>\n",
              "      <td>four</td>\n",
              "      <td>130</td>\n",
              "      <td>mpfi</td>\n",
              "      <td>3.47</td>\n",
              "      <td>2.68</td>\n",
              "      <td>9.0</td>\n",
              "      <td>111.0</td>\n",
              "      <td>5000.0</td>\n",
              "      <td>21</td>\n",
              "      <td>27</td>\n",
              "      <td>16500.0</td>\n",
              "    </tr>\n",
              "    <tr>\n",
              "      <th>2</th>\n",
              "      <td>3</td>\n",
              "      <td>alfa-romero</td>\n",
              "      <td>gas</td>\n",
              "      <td>std</td>\n",
              "      <td>two</td>\n",
              "      <td>hatchback</td>\n",
              "      <td>rwd</td>\n",
              "      <td>front</td>\n",
              "      <td>94.5</td>\n",
              "      <td>171.2</td>\n",
              "      <td>65.5</td>\n",
              "      <td>52.4</td>\n",
              "      <td>2823</td>\n",
              "      <td>ohcv</td>\n",
              "      <td>six</td>\n",
              "      <td>152</td>\n",
              "      <td>mpfi</td>\n",
              "      <td>2.68</td>\n",
              "      <td>3.47</td>\n",
              "      <td>9.0</td>\n",
              "      <td>154.0</td>\n",
              "      <td>5000.0</td>\n",
              "      <td>19</td>\n",
              "      <td>26</td>\n",
              "      <td>16500.0</td>\n",
              "    </tr>\n",
              "    <tr>\n",
              "      <th>3</th>\n",
              "      <td>4</td>\n",
              "      <td>audi</td>\n",
              "      <td>gas</td>\n",
              "      <td>std</td>\n",
              "      <td>four</td>\n",
              "      <td>sedan</td>\n",
              "      <td>fwd</td>\n",
              "      <td>front</td>\n",
              "      <td>99.8</td>\n",
              "      <td>176.6</td>\n",
              "      <td>66.2</td>\n",
              "      <td>54.3</td>\n",
              "      <td>2337</td>\n",
              "      <td>ohc</td>\n",
              "      <td>four</td>\n",
              "      <td>109</td>\n",
              "      <td>mpfi</td>\n",
              "      <td>3.19</td>\n",
              "      <td>3.40</td>\n",
              "      <td>10.0</td>\n",
              "      <td>102.0</td>\n",
              "      <td>5500.0</td>\n",
              "      <td>24</td>\n",
              "      <td>30</td>\n",
              "      <td>13950.0</td>\n",
              "    </tr>\n",
              "    <tr>\n",
              "      <th>4</th>\n",
              "      <td>5</td>\n",
              "      <td>audi</td>\n",
              "      <td>gas</td>\n",
              "      <td>std</td>\n",
              "      <td>four</td>\n",
              "      <td>sedan</td>\n",
              "      <td>4wd</td>\n",
              "      <td>front</td>\n",
              "      <td>99.4</td>\n",
              "      <td>176.6</td>\n",
              "      <td>66.4</td>\n",
              "      <td>54.3</td>\n",
              "      <td>2824</td>\n",
              "      <td>ohc</td>\n",
              "      <td>five</td>\n",
              "      <td>136</td>\n",
              "      <td>mpfi</td>\n",
              "      <td>3.19</td>\n",
              "      <td>3.40</td>\n",
              "      <td>8.0</td>\n",
              "      <td>115.0</td>\n",
              "      <td>5500.0</td>\n",
              "      <td>18</td>\n",
              "      <td>22</td>\n",
              "      <td>17450.0</td>\n",
              "    </tr>\n",
              "  </tbody>\n",
              "</table>\n",
              "</div>"
            ],
            "text/plain": [
              "   ID         make fuel-type  ... city-mpg highway-mpg    price\n",
              "0   1  alfa-romero       gas  ...       21          27  13495.0\n",
              "1   2  alfa-romero       gas  ...       21          27  16500.0\n",
              "2   3  alfa-romero       gas  ...       19          26  16500.0\n",
              "3   4         audi       gas  ...       24          30  13950.0\n",
              "4   5         audi       gas  ...       18          22  17450.0\n",
              "\n",
              "[5 rows x 25 columns]"
            ]
          },
          "metadata": {
            "tags": []
          },
          "execution_count": 10
        }
      ]
    },
    {
      "cell_type": "markdown",
      "metadata": {
        "id": "YKclApYbi8dd"
      },
      "source": [
        "## 1. Combine 2 Tables (risk & spec) using ID as key"
      ]
    },
    {
      "cell_type": "code",
      "metadata": {
        "id": "m15LzkcGi8dz"
      },
      "source": [
        "fulljoin = pd.merge(spec, risk, how='outer', on='ID')"
      ],
      "execution_count": 11,
      "outputs": []
    },
    {
      "cell_type": "code",
      "metadata": {
        "id": "NqtaZFKxi8eJ",
        "colab": {
          "base_uri": "https://localhost:8080/",
          "height": 305
        },
        "outputId": "f58cb16c-8738-43e7-ca09-6c9ce8a0939e"
      },
      "source": [
        "fulljoin.head()"
      ],
      "execution_count": 12,
      "outputs": [
        {
          "output_type": "execute_result",
          "data": {
            "text/html": [
              "<div>\n",
              "<style scoped>\n",
              "    .dataframe tbody tr th:only-of-type {\n",
              "        vertical-align: middle;\n",
              "    }\n",
              "\n",
              "    .dataframe tbody tr th {\n",
              "        vertical-align: top;\n",
              "    }\n",
              "\n",
              "    .dataframe thead th {\n",
              "        text-align: right;\n",
              "    }\n",
              "</style>\n",
              "<table border=\"1\" class=\"dataframe\">\n",
              "  <thead>\n",
              "    <tr style=\"text-align: right;\">\n",
              "      <th></th>\n",
              "      <th>ID</th>\n",
              "      <th>make</th>\n",
              "      <th>fuel-type</th>\n",
              "      <th>aspiration</th>\n",
              "      <th>num-of-doors</th>\n",
              "      <th>body-style</th>\n",
              "      <th>drive-wheel</th>\n",
              "      <th>engine-loc</th>\n",
              "      <th>wheel-base</th>\n",
              "      <th>length</th>\n",
              "      <th>width</th>\n",
              "      <th>height</th>\n",
              "      <th>curb-weight</th>\n",
              "      <th>engine-type</th>\n",
              "      <th>cylinder</th>\n",
              "      <th>engine-size</th>\n",
              "      <th>fuel-system</th>\n",
              "      <th>bore</th>\n",
              "      <th>stroke</th>\n",
              "      <th>compression-ratio</th>\n",
              "      <th>horsepower</th>\n",
              "      <th>peak-rpm</th>\n",
              "      <th>city-mpg</th>\n",
              "      <th>highway-mpg</th>\n",
              "      <th>price</th>\n",
              "      <th>risk_level</th>\n",
              "    </tr>\n",
              "  </thead>\n",
              "  <tbody>\n",
              "    <tr>\n",
              "      <th>0</th>\n",
              "      <td>1</td>\n",
              "      <td>alfa-romero</td>\n",
              "      <td>gas</td>\n",
              "      <td>std</td>\n",
              "      <td>two</td>\n",
              "      <td>convertible</td>\n",
              "      <td>rwd</td>\n",
              "      <td>front</td>\n",
              "      <td>88.6</td>\n",
              "      <td>168.8</td>\n",
              "      <td>64.1</td>\n",
              "      <td>48.8</td>\n",
              "      <td>2548</td>\n",
              "      <td>dohc</td>\n",
              "      <td>four</td>\n",
              "      <td>130</td>\n",
              "      <td>mpfi</td>\n",
              "      <td>3.47</td>\n",
              "      <td>2.68</td>\n",
              "      <td>9.0</td>\n",
              "      <td>111.0</td>\n",
              "      <td>5000.0</td>\n",
              "      <td>21</td>\n",
              "      <td>27</td>\n",
              "      <td>13495.0</td>\n",
              "      <td>3</td>\n",
              "    </tr>\n",
              "    <tr>\n",
              "      <th>1</th>\n",
              "      <td>2</td>\n",
              "      <td>alfa-romero</td>\n",
              "      <td>gas</td>\n",
              "      <td>std</td>\n",
              "      <td>two</td>\n",
              "      <td>convertible</td>\n",
              "      <td>rwd</td>\n",
              "      <td>front</td>\n",
              "      <td>88.6</td>\n",
              "      <td>168.8</td>\n",
              "      <td>64.1</td>\n",
              "      <td>48.8</td>\n",
              "      <td>2548</td>\n",
              "      <td>dohc</td>\n",
              "      <td>four</td>\n",
              "      <td>130</td>\n",
              "      <td>mpfi</td>\n",
              "      <td>3.47</td>\n",
              "      <td>2.68</td>\n",
              "      <td>9.0</td>\n",
              "      <td>111.0</td>\n",
              "      <td>5000.0</td>\n",
              "      <td>21</td>\n",
              "      <td>27</td>\n",
              "      <td>16500.0</td>\n",
              "      <td>3</td>\n",
              "    </tr>\n",
              "    <tr>\n",
              "      <th>2</th>\n",
              "      <td>3</td>\n",
              "      <td>alfa-romero</td>\n",
              "      <td>gas</td>\n",
              "      <td>std</td>\n",
              "      <td>two</td>\n",
              "      <td>hatchback</td>\n",
              "      <td>rwd</td>\n",
              "      <td>front</td>\n",
              "      <td>94.5</td>\n",
              "      <td>171.2</td>\n",
              "      <td>65.5</td>\n",
              "      <td>52.4</td>\n",
              "      <td>2823</td>\n",
              "      <td>ohcv</td>\n",
              "      <td>six</td>\n",
              "      <td>152</td>\n",
              "      <td>mpfi</td>\n",
              "      <td>2.68</td>\n",
              "      <td>3.47</td>\n",
              "      <td>9.0</td>\n",
              "      <td>154.0</td>\n",
              "      <td>5000.0</td>\n",
              "      <td>19</td>\n",
              "      <td>26</td>\n",
              "      <td>16500.0</td>\n",
              "      <td>1</td>\n",
              "    </tr>\n",
              "    <tr>\n",
              "      <th>3</th>\n",
              "      <td>4</td>\n",
              "      <td>audi</td>\n",
              "      <td>gas</td>\n",
              "      <td>std</td>\n",
              "      <td>four</td>\n",
              "      <td>sedan</td>\n",
              "      <td>fwd</td>\n",
              "      <td>front</td>\n",
              "      <td>99.8</td>\n",
              "      <td>176.6</td>\n",
              "      <td>66.2</td>\n",
              "      <td>54.3</td>\n",
              "      <td>2337</td>\n",
              "      <td>ohc</td>\n",
              "      <td>four</td>\n",
              "      <td>109</td>\n",
              "      <td>mpfi</td>\n",
              "      <td>3.19</td>\n",
              "      <td>3.40</td>\n",
              "      <td>10.0</td>\n",
              "      <td>102.0</td>\n",
              "      <td>5500.0</td>\n",
              "      <td>24</td>\n",
              "      <td>30</td>\n",
              "      <td>13950.0</td>\n",
              "      <td>2</td>\n",
              "    </tr>\n",
              "    <tr>\n",
              "      <th>4</th>\n",
              "      <td>5</td>\n",
              "      <td>audi</td>\n",
              "      <td>gas</td>\n",
              "      <td>std</td>\n",
              "      <td>four</td>\n",
              "      <td>sedan</td>\n",
              "      <td>4wd</td>\n",
              "      <td>front</td>\n",
              "      <td>99.4</td>\n",
              "      <td>176.6</td>\n",
              "      <td>66.4</td>\n",
              "      <td>54.3</td>\n",
              "      <td>2824</td>\n",
              "      <td>ohc</td>\n",
              "      <td>five</td>\n",
              "      <td>136</td>\n",
              "      <td>mpfi</td>\n",
              "      <td>3.19</td>\n",
              "      <td>3.40</td>\n",
              "      <td>8.0</td>\n",
              "      <td>115.0</td>\n",
              "      <td>5500.0</td>\n",
              "      <td>18</td>\n",
              "      <td>22</td>\n",
              "      <td>17450.0</td>\n",
              "      <td>2</td>\n",
              "    </tr>\n",
              "  </tbody>\n",
              "</table>\n",
              "</div>"
            ],
            "text/plain": [
              "   ID         make fuel-type  ... highway-mpg    price risk_level\n",
              "0   1  alfa-romero       gas  ...          27  13495.0          3\n",
              "1   2  alfa-romero       gas  ...          27  16500.0          3\n",
              "2   3  alfa-romero       gas  ...          26  16500.0          1\n",
              "3   4         audi       gas  ...          30  13950.0          2\n",
              "4   5         audi       gas  ...          22  17450.0          2\n",
              "\n",
              "[5 rows x 26 columns]"
            ]
          },
          "metadata": {
            "tags": []
          },
          "execution_count": 12
        }
      ]
    },
    {
      "cell_type": "markdown",
      "metadata": {
        "id": "oS86QRLji8eN"
      },
      "source": [
        "## 2. Quick-look (dimension, data type, head/tail, summary statistics, etc) "
      ]
    },
    {
      "cell_type": "code",
      "metadata": {
        "id": "roL4pYiUi8eP",
        "colab": {
          "base_uri": "https://localhost:8080/"
        },
        "outputId": "517ec9e4-8e2c-4950-fa50-0ff4e92dda5c"
      },
      "source": [
        "# Get info of dataframe shape (rows , column)\n",
        "fulljoin.shape"
      ],
      "execution_count": 13,
      "outputs": [
        {
          "output_type": "execute_result",
          "data": {
            "text/plain": [
              "(205, 26)"
            ]
          },
          "metadata": {
            "tags": []
          },
          "execution_count": 13
        }
      ]
    },
    {
      "cell_type": "code",
      "metadata": {
        "id": "dnsamRRli8eS",
        "colab": {
          "base_uri": "https://localhost:8080/"
        },
        "outputId": "50fc593c-c56e-40fc-de34-c29a2356e4fc"
      },
      "source": [
        "# Get detailed information about column name, filled data count, datatype\n",
        "fulljoin.info()"
      ],
      "execution_count": 14,
      "outputs": [
        {
          "output_type": "stream",
          "text": [
            "<class 'pandas.core.frame.DataFrame'>\n",
            "Int64Index: 205 entries, 0 to 204\n",
            "Data columns (total 26 columns):\n",
            " #   Column             Non-Null Count  Dtype  \n",
            "---  ------             --------------  -----  \n",
            " 0   ID                 205 non-null    int64  \n",
            " 1   make               205 non-null    object \n",
            " 2   fuel-type          205 non-null    object \n",
            " 3   aspiration         205 non-null    object \n",
            " 4   num-of-doors       204 non-null    object \n",
            " 5   body-style         205 non-null    object \n",
            " 6   drive-wheel        205 non-null    object \n",
            " 7   engine-loc         205 non-null    object \n",
            " 8   wheel-base         205 non-null    float64\n",
            " 9   length             205 non-null    float64\n",
            " 10  width              205 non-null    float64\n",
            " 11  height             205 non-null    float64\n",
            " 12  curb-weight        205 non-null    int64  \n",
            " 13  engine-type        205 non-null    object \n",
            " 14  cylinder           205 non-null    object \n",
            " 15  engine-size        205 non-null    int64  \n",
            " 16  fuel-system        205 non-null    object \n",
            " 17  bore               201 non-null    float64\n",
            " 18  stroke             201 non-null    float64\n",
            " 19  compression-ratio  205 non-null    float64\n",
            " 20  horsepower         203 non-null    float64\n",
            " 21  peak-rpm           203 non-null    float64\n",
            " 22  city-mpg           205 non-null    int64  \n",
            " 23  highway-mpg        205 non-null    int64  \n",
            " 24  price              201 non-null    float64\n",
            " 25  risk_level         205 non-null    int64  \n",
            "dtypes: float64(10), int64(6), object(10)\n",
            "memory usage: 43.2+ KB\n"
          ],
          "name": "stdout"
        }
      ]
    },
    {
      "cell_type": "code",
      "metadata": {
        "id": "r9T_OREBi8eZ",
        "colab": {
          "base_uri": "https://localhost:8080/",
          "height": 325
        },
        "outputId": "8e98f81a-61c2-48f4-fb42-94e395bab7dc"
      },
      "source": [
        "# Get descriptive statistic information of data.\n",
        "fulljoin.describe()"
      ],
      "execution_count": 15,
      "outputs": [
        {
          "output_type": "execute_result",
          "data": {
            "text/html": [
              "<div>\n",
              "<style scoped>\n",
              "    .dataframe tbody tr th:only-of-type {\n",
              "        vertical-align: middle;\n",
              "    }\n",
              "\n",
              "    .dataframe tbody tr th {\n",
              "        vertical-align: top;\n",
              "    }\n",
              "\n",
              "    .dataframe thead th {\n",
              "        text-align: right;\n",
              "    }\n",
              "</style>\n",
              "<table border=\"1\" class=\"dataframe\">\n",
              "  <thead>\n",
              "    <tr style=\"text-align: right;\">\n",
              "      <th></th>\n",
              "      <th>ID</th>\n",
              "      <th>wheel-base</th>\n",
              "      <th>length</th>\n",
              "      <th>width</th>\n",
              "      <th>height</th>\n",
              "      <th>curb-weight</th>\n",
              "      <th>engine-size</th>\n",
              "      <th>bore</th>\n",
              "      <th>stroke</th>\n",
              "      <th>compression-ratio</th>\n",
              "      <th>horsepower</th>\n",
              "      <th>peak-rpm</th>\n",
              "      <th>city-mpg</th>\n",
              "      <th>highway-mpg</th>\n",
              "      <th>price</th>\n",
              "      <th>risk_level</th>\n",
              "    </tr>\n",
              "  </thead>\n",
              "  <tbody>\n",
              "    <tr>\n",
              "      <th>count</th>\n",
              "      <td>205.000000</td>\n",
              "      <td>205.000000</td>\n",
              "      <td>205.000000</td>\n",
              "      <td>205.000000</td>\n",
              "      <td>205.000000</td>\n",
              "      <td>205.000000</td>\n",
              "      <td>205.000000</td>\n",
              "      <td>201.000000</td>\n",
              "      <td>201.000000</td>\n",
              "      <td>205.000000</td>\n",
              "      <td>203.000000</td>\n",
              "      <td>203.000000</td>\n",
              "      <td>205.000000</td>\n",
              "      <td>205.000000</td>\n",
              "      <td>201.000000</td>\n",
              "      <td>205.000000</td>\n",
              "    </tr>\n",
              "    <tr>\n",
              "      <th>mean</th>\n",
              "      <td>103.000000</td>\n",
              "      <td>98.756585</td>\n",
              "      <td>174.049268</td>\n",
              "      <td>65.907805</td>\n",
              "      <td>53.724878</td>\n",
              "      <td>2555.565854</td>\n",
              "      <td>126.907317</td>\n",
              "      <td>3.329751</td>\n",
              "      <td>3.255423</td>\n",
              "      <td>10.142537</td>\n",
              "      <td>104.256158</td>\n",
              "      <td>5125.369458</td>\n",
              "      <td>25.219512</td>\n",
              "      <td>30.751220</td>\n",
              "      <td>13207.129353</td>\n",
              "      <td>0.834146</td>\n",
              "    </tr>\n",
              "    <tr>\n",
              "      <th>std</th>\n",
              "      <td>59.322565</td>\n",
              "      <td>6.021776</td>\n",
              "      <td>12.337289</td>\n",
              "      <td>2.145204</td>\n",
              "      <td>2.443522</td>\n",
              "      <td>520.680204</td>\n",
              "      <td>41.642693</td>\n",
              "      <td>0.273539</td>\n",
              "      <td>0.316717</td>\n",
              "      <td>3.972040</td>\n",
              "      <td>39.714369</td>\n",
              "      <td>479.334560</td>\n",
              "      <td>6.542142</td>\n",
              "      <td>6.886443</td>\n",
              "      <td>7947.066342</td>\n",
              "      <td>1.245307</td>\n",
              "    </tr>\n",
              "    <tr>\n",
              "      <th>min</th>\n",
              "      <td>1.000000</td>\n",
              "      <td>86.600000</td>\n",
              "      <td>141.100000</td>\n",
              "      <td>60.300000</td>\n",
              "      <td>47.800000</td>\n",
              "      <td>1488.000000</td>\n",
              "      <td>61.000000</td>\n",
              "      <td>2.540000</td>\n",
              "      <td>2.070000</td>\n",
              "      <td>7.000000</td>\n",
              "      <td>48.000000</td>\n",
              "      <td>4150.000000</td>\n",
              "      <td>13.000000</td>\n",
              "      <td>16.000000</td>\n",
              "      <td>5118.000000</td>\n",
              "      <td>-2.000000</td>\n",
              "    </tr>\n",
              "    <tr>\n",
              "      <th>25%</th>\n",
              "      <td>52.000000</td>\n",
              "      <td>94.500000</td>\n",
              "      <td>166.300000</td>\n",
              "      <td>64.100000</td>\n",
              "      <td>52.000000</td>\n",
              "      <td>2145.000000</td>\n",
              "      <td>97.000000</td>\n",
              "      <td>3.150000</td>\n",
              "      <td>3.110000</td>\n",
              "      <td>8.600000</td>\n",
              "      <td>70.000000</td>\n",
              "      <td>4800.000000</td>\n",
              "      <td>19.000000</td>\n",
              "      <td>25.000000</td>\n",
              "      <td>7775.000000</td>\n",
              "      <td>0.000000</td>\n",
              "    </tr>\n",
              "    <tr>\n",
              "      <th>50%</th>\n",
              "      <td>103.000000</td>\n",
              "      <td>97.000000</td>\n",
              "      <td>173.200000</td>\n",
              "      <td>65.500000</td>\n",
              "      <td>54.100000</td>\n",
              "      <td>2414.000000</td>\n",
              "      <td>120.000000</td>\n",
              "      <td>3.310000</td>\n",
              "      <td>3.290000</td>\n",
              "      <td>9.000000</td>\n",
              "      <td>95.000000</td>\n",
              "      <td>5200.000000</td>\n",
              "      <td>24.000000</td>\n",
              "      <td>30.000000</td>\n",
              "      <td>10295.000000</td>\n",
              "      <td>1.000000</td>\n",
              "    </tr>\n",
              "    <tr>\n",
              "      <th>75%</th>\n",
              "      <td>154.000000</td>\n",
              "      <td>102.400000</td>\n",
              "      <td>183.100000</td>\n",
              "      <td>66.900000</td>\n",
              "      <td>55.500000</td>\n",
              "      <td>2935.000000</td>\n",
              "      <td>141.000000</td>\n",
              "      <td>3.590000</td>\n",
              "      <td>3.410000</td>\n",
              "      <td>9.400000</td>\n",
              "      <td>116.000000</td>\n",
              "      <td>5500.000000</td>\n",
              "      <td>30.000000</td>\n",
              "      <td>34.000000</td>\n",
              "      <td>16500.000000</td>\n",
              "      <td>2.000000</td>\n",
              "    </tr>\n",
              "    <tr>\n",
              "      <th>max</th>\n",
              "      <td>205.000000</td>\n",
              "      <td>120.900000</td>\n",
              "      <td>208.100000</td>\n",
              "      <td>72.300000</td>\n",
              "      <td>59.800000</td>\n",
              "      <td>4066.000000</td>\n",
              "      <td>326.000000</td>\n",
              "      <td>3.940000</td>\n",
              "      <td>4.170000</td>\n",
              "      <td>23.000000</td>\n",
              "      <td>288.000000</td>\n",
              "      <td>6600.000000</td>\n",
              "      <td>49.000000</td>\n",
              "      <td>54.000000</td>\n",
              "      <td>45400.000000</td>\n",
              "      <td>3.000000</td>\n",
              "    </tr>\n",
              "  </tbody>\n",
              "</table>\n",
              "</div>"
            ],
            "text/plain": [
              "               ID  wheel-base  ...         price  risk_level\n",
              "count  205.000000  205.000000  ...    201.000000  205.000000\n",
              "mean   103.000000   98.756585  ...  13207.129353    0.834146\n",
              "std     59.322565    6.021776  ...   7947.066342    1.245307\n",
              "min      1.000000   86.600000  ...   5118.000000   -2.000000\n",
              "25%     52.000000   94.500000  ...   7775.000000    0.000000\n",
              "50%    103.000000   97.000000  ...  10295.000000    1.000000\n",
              "75%    154.000000  102.400000  ...  16500.000000    2.000000\n",
              "max    205.000000  120.900000  ...  45400.000000    3.000000\n",
              "\n",
              "[8 rows x 16 columns]"
            ]
          },
          "metadata": {
            "tags": []
          },
          "execution_count": 15
        }
      ]
    },
    {
      "cell_type": "markdown",
      "metadata": {
        "id": "XlqPuzBqi8eb"
      },
      "source": [
        " ## 3. Handling missing value"
      ]
    },
    {
      "cell_type": "code",
      "metadata": {
        "id": "jakEtXU7i8ec",
        "colab": {
          "base_uri": "https://localhost:8080/"
        },
        "outputId": "e3f470ad-e034-4ec6-bfb0-2c20589dfb73"
      },
      "source": [
        "fulljoin.isnull().sum().sort_values(ascending=False)"
      ],
      "execution_count": 16,
      "outputs": [
        {
          "output_type": "execute_result",
          "data": {
            "text/plain": [
              "stroke               4\n",
              "bore                 4\n",
              "price                4\n",
              "peak-rpm             2\n",
              "horsepower           2\n",
              "num-of-doors         1\n",
              "risk_level           0\n",
              "length               0\n",
              "make                 0\n",
              "fuel-type            0\n",
              "aspiration           0\n",
              "body-style           0\n",
              "drive-wheel          0\n",
              "engine-loc           0\n",
              "wheel-base           0\n",
              "curb-weight          0\n",
              "width                0\n",
              "height               0\n",
              "engine-type          0\n",
              "cylinder             0\n",
              "engine-size          0\n",
              "fuel-system          0\n",
              "compression-ratio    0\n",
              "city-mpg             0\n",
              "highway-mpg          0\n",
              "ID                   0\n",
              "dtype: int64"
            ]
          },
          "metadata": {
            "tags": []
          },
          "execution_count": 16
        }
      ]
    },
    {
      "cell_type": "code",
      "metadata": {
        "id": "z7ck_Hfli8eg"
      },
      "source": [
        "# Fill missing data with mode\n",
        "fulljoin['num-of-doors'].fillna(fulljoin['num-of-doors'].mode()[0], inplace=True)"
      ],
      "execution_count": 17,
      "outputs": []
    },
    {
      "cell_type": "code",
      "metadata": {
        "id": "8ai09I-8i8et"
      },
      "source": [
        "# Fill missing data with min\n",
        "fulljoin['peak-rpm'].fillna(fulljoin['peak-rpm'].min(), inplace=True)"
      ],
      "execution_count": 18,
      "outputs": []
    },
    {
      "cell_type": "code",
      "metadata": {
        "id": "bfeqsWF4i8ek"
      },
      "source": [
        "# Fill missing data with mean\n",
        "fulljoin['bore'].fillna(fulljoin['bore'].mean(), inplace=True)\n",
        "fulljoin['stroke'].fillna(fulljoin['stroke'].mean(), inplace=True)\n",
        "fulljoin['price'].fillna(fulljoin['price'].mean(), inplace=True)\n",
        "fulljoin['horsepower'].fillna(fulljoin['horsepower'].mean(), inplace=True)"
      ],
      "execution_count": 19,
      "outputs": []
    },
    {
      "cell_type": "code",
      "metadata": {
        "id": "5OHSScN1i8fG",
        "colab": {
          "base_uri": "https://localhost:8080/"
        },
        "outputId": "bdfafff5-8bff-49ce-afc9-90c3098af220"
      },
      "source": [
        "fulljoin.isnull().sum()"
      ],
      "execution_count": 20,
      "outputs": [
        {
          "output_type": "execute_result",
          "data": {
            "text/plain": [
              "ID                   0\n",
              "make                 0\n",
              "fuel-type            0\n",
              "aspiration           0\n",
              "num-of-doors         0\n",
              "body-style           0\n",
              "drive-wheel          0\n",
              "engine-loc           0\n",
              "wheel-base           0\n",
              "length               0\n",
              "width                0\n",
              "height               0\n",
              "curb-weight          0\n",
              "engine-type          0\n",
              "cylinder             0\n",
              "engine-size          0\n",
              "fuel-system          0\n",
              "bore                 0\n",
              "stroke               0\n",
              "compression-ratio    0\n",
              "horsepower           0\n",
              "peak-rpm             0\n",
              "city-mpg             0\n",
              "highway-mpg          0\n",
              "price                0\n",
              "risk_level           0\n",
              "dtype: int64"
            ]
          },
          "metadata": {
            "tags": []
          },
          "execution_count": 20
        }
      ]
    },
    {
      "cell_type": "code",
      "metadata": {
        "colab": {
          "base_uri": "https://localhost:8080/",
          "height": 305
        },
        "id": "2KbOjJLqYShc",
        "outputId": "6fbce429-4364-40f6-c3a0-515deda50553"
      },
      "source": [
        "fulljoin.head(5)"
      ],
      "execution_count": 21,
      "outputs": [
        {
          "output_type": "execute_result",
          "data": {
            "text/html": [
              "<div>\n",
              "<style scoped>\n",
              "    .dataframe tbody tr th:only-of-type {\n",
              "        vertical-align: middle;\n",
              "    }\n",
              "\n",
              "    .dataframe tbody tr th {\n",
              "        vertical-align: top;\n",
              "    }\n",
              "\n",
              "    .dataframe thead th {\n",
              "        text-align: right;\n",
              "    }\n",
              "</style>\n",
              "<table border=\"1\" class=\"dataframe\">\n",
              "  <thead>\n",
              "    <tr style=\"text-align: right;\">\n",
              "      <th></th>\n",
              "      <th>ID</th>\n",
              "      <th>make</th>\n",
              "      <th>fuel-type</th>\n",
              "      <th>aspiration</th>\n",
              "      <th>num-of-doors</th>\n",
              "      <th>body-style</th>\n",
              "      <th>drive-wheel</th>\n",
              "      <th>engine-loc</th>\n",
              "      <th>wheel-base</th>\n",
              "      <th>length</th>\n",
              "      <th>width</th>\n",
              "      <th>height</th>\n",
              "      <th>curb-weight</th>\n",
              "      <th>engine-type</th>\n",
              "      <th>cylinder</th>\n",
              "      <th>engine-size</th>\n",
              "      <th>fuel-system</th>\n",
              "      <th>bore</th>\n",
              "      <th>stroke</th>\n",
              "      <th>compression-ratio</th>\n",
              "      <th>horsepower</th>\n",
              "      <th>peak-rpm</th>\n",
              "      <th>city-mpg</th>\n",
              "      <th>highway-mpg</th>\n",
              "      <th>price</th>\n",
              "      <th>risk_level</th>\n",
              "    </tr>\n",
              "  </thead>\n",
              "  <tbody>\n",
              "    <tr>\n",
              "      <th>0</th>\n",
              "      <td>1</td>\n",
              "      <td>alfa-romero</td>\n",
              "      <td>gas</td>\n",
              "      <td>std</td>\n",
              "      <td>two</td>\n",
              "      <td>convertible</td>\n",
              "      <td>rwd</td>\n",
              "      <td>front</td>\n",
              "      <td>88.6</td>\n",
              "      <td>168.8</td>\n",
              "      <td>64.1</td>\n",
              "      <td>48.8</td>\n",
              "      <td>2548</td>\n",
              "      <td>dohc</td>\n",
              "      <td>four</td>\n",
              "      <td>130</td>\n",
              "      <td>mpfi</td>\n",
              "      <td>3.47</td>\n",
              "      <td>2.68</td>\n",
              "      <td>9.0</td>\n",
              "      <td>111.0</td>\n",
              "      <td>5000.0</td>\n",
              "      <td>21</td>\n",
              "      <td>27</td>\n",
              "      <td>13495.0</td>\n",
              "      <td>3</td>\n",
              "    </tr>\n",
              "    <tr>\n",
              "      <th>1</th>\n",
              "      <td>2</td>\n",
              "      <td>alfa-romero</td>\n",
              "      <td>gas</td>\n",
              "      <td>std</td>\n",
              "      <td>two</td>\n",
              "      <td>convertible</td>\n",
              "      <td>rwd</td>\n",
              "      <td>front</td>\n",
              "      <td>88.6</td>\n",
              "      <td>168.8</td>\n",
              "      <td>64.1</td>\n",
              "      <td>48.8</td>\n",
              "      <td>2548</td>\n",
              "      <td>dohc</td>\n",
              "      <td>four</td>\n",
              "      <td>130</td>\n",
              "      <td>mpfi</td>\n",
              "      <td>3.47</td>\n",
              "      <td>2.68</td>\n",
              "      <td>9.0</td>\n",
              "      <td>111.0</td>\n",
              "      <td>5000.0</td>\n",
              "      <td>21</td>\n",
              "      <td>27</td>\n",
              "      <td>16500.0</td>\n",
              "      <td>3</td>\n",
              "    </tr>\n",
              "    <tr>\n",
              "      <th>2</th>\n",
              "      <td>3</td>\n",
              "      <td>alfa-romero</td>\n",
              "      <td>gas</td>\n",
              "      <td>std</td>\n",
              "      <td>two</td>\n",
              "      <td>hatchback</td>\n",
              "      <td>rwd</td>\n",
              "      <td>front</td>\n",
              "      <td>94.5</td>\n",
              "      <td>171.2</td>\n",
              "      <td>65.5</td>\n",
              "      <td>52.4</td>\n",
              "      <td>2823</td>\n",
              "      <td>ohcv</td>\n",
              "      <td>six</td>\n",
              "      <td>152</td>\n",
              "      <td>mpfi</td>\n",
              "      <td>2.68</td>\n",
              "      <td>3.47</td>\n",
              "      <td>9.0</td>\n",
              "      <td>154.0</td>\n",
              "      <td>5000.0</td>\n",
              "      <td>19</td>\n",
              "      <td>26</td>\n",
              "      <td>16500.0</td>\n",
              "      <td>1</td>\n",
              "    </tr>\n",
              "    <tr>\n",
              "      <th>3</th>\n",
              "      <td>4</td>\n",
              "      <td>audi</td>\n",
              "      <td>gas</td>\n",
              "      <td>std</td>\n",
              "      <td>four</td>\n",
              "      <td>sedan</td>\n",
              "      <td>fwd</td>\n",
              "      <td>front</td>\n",
              "      <td>99.8</td>\n",
              "      <td>176.6</td>\n",
              "      <td>66.2</td>\n",
              "      <td>54.3</td>\n",
              "      <td>2337</td>\n",
              "      <td>ohc</td>\n",
              "      <td>four</td>\n",
              "      <td>109</td>\n",
              "      <td>mpfi</td>\n",
              "      <td>3.19</td>\n",
              "      <td>3.40</td>\n",
              "      <td>10.0</td>\n",
              "      <td>102.0</td>\n",
              "      <td>5500.0</td>\n",
              "      <td>24</td>\n",
              "      <td>30</td>\n",
              "      <td>13950.0</td>\n",
              "      <td>2</td>\n",
              "    </tr>\n",
              "    <tr>\n",
              "      <th>4</th>\n",
              "      <td>5</td>\n",
              "      <td>audi</td>\n",
              "      <td>gas</td>\n",
              "      <td>std</td>\n",
              "      <td>four</td>\n",
              "      <td>sedan</td>\n",
              "      <td>4wd</td>\n",
              "      <td>front</td>\n",
              "      <td>99.4</td>\n",
              "      <td>176.6</td>\n",
              "      <td>66.4</td>\n",
              "      <td>54.3</td>\n",
              "      <td>2824</td>\n",
              "      <td>ohc</td>\n",
              "      <td>five</td>\n",
              "      <td>136</td>\n",
              "      <td>mpfi</td>\n",
              "      <td>3.19</td>\n",
              "      <td>3.40</td>\n",
              "      <td>8.0</td>\n",
              "      <td>115.0</td>\n",
              "      <td>5500.0</td>\n",
              "      <td>18</td>\n",
              "      <td>22</td>\n",
              "      <td>17450.0</td>\n",
              "      <td>2</td>\n",
              "    </tr>\n",
              "  </tbody>\n",
              "</table>\n",
              "</div>"
            ],
            "text/plain": [
              "   ID         make fuel-type  ... highway-mpg    price risk_level\n",
              "0   1  alfa-romero       gas  ...          27  13495.0          3\n",
              "1   2  alfa-romero       gas  ...          27  16500.0          3\n",
              "2   3  alfa-romero       gas  ...          26  16500.0          1\n",
              "3   4         audi       gas  ...          30  13950.0          2\n",
              "4   5         audi       gas  ...          22  17450.0          2\n",
              "\n",
              "[5 rows x 26 columns]"
            ]
          },
          "metadata": {
            "tags": []
          },
          "execution_count": 21
        }
      ]
    },
    {
      "cell_type": "markdown",
      "metadata": {
        "id": "eqkHpQz1i8fJ"
      },
      "source": [
        " ## 4.  Perform visualization to ease and help understanding  of data"
      ]
    },
    {
      "cell_type": "markdown",
      "metadata": {
        "id": "lEMCbI0Qi8fK"
      },
      "source": [
        "### Scatterplot"
      ]
    },
    {
      "cell_type": "code",
      "metadata": {
        "id": "rOYVmclji8fK",
        "colab": {
          "base_uri": "https://localhost:8080/",
          "height": 465
        },
        "outputId": "ff7f086a-e063-4d5d-b97b-fe9bd91de741"
      },
      "source": [
        "## Define plot size\n",
        "f=plt.figure(figsize=(20,8))\n",
        "\n",
        "## Scatter plot horse power and price\n",
        "f.add_subplot(1,2,1)\n",
        "horse_price= plt.scatter(fulljoin['horsepower'],fulljoin['price'])\n",
        "plt.title('horsepower and price ')\n",
        "plt.xlabel('horsepower')\n",
        "plt.ylabel('price($)')\n",
        "\n",
        "## Scatter plot city-mpg and highway-mpg\n",
        "f.add_subplot(1,2,2)\n",
        "horse_price= plt.scatter(fulljoin['engine-size'],fulljoin['price'])\n",
        "plt.title('engine-size and price ')\n",
        "plt.xlabel('engine-size')\n",
        "plt.ylabel('price')\n",
        "plt.show()"
      ],
      "execution_count": 22,
      "outputs": [
        {
          "output_type": "display_data",
          "data": {
            "image/png": "[encoded data removed]",
            "text/plain": [
              "<Figure size 1440x576 with 2 Axes>"
            ]
          },
          "metadata": {
            "tags": [],
            "needs_background": "light"
          }
        }
      ]
    },
    {
      "cell_type": "markdown",
      "metadata": {
        "id": "DL1f2502i8fN"
      },
      "source": [
        "### Histogram"
      ]
    },
    {
      "cell_type": "code",
      "metadata": {
        "id": "0Sd3cEmai8fO",
        "colab": {
          "base_uri": "https://localhost:8080/",
          "height": 556
        },
        "outputId": "48f74128-2240-4a07-e99d-572066967487"
      },
      "source": [
        "f=plt.figure(figsize=(20,10))\n",
        "\n",
        "f.add_subplot(2,2,1)\n",
        "histo_engine= plt.hist(fulljoin['engine-size'],\n",
        "         facecolor='peru', \n",
        "         edgecolor='blue', \n",
        "         bins=10)\n",
        "plt.xlabel('engine size')\n",
        "plt.ylabel('count')\n",
        "\n",
        "f.add_subplot(2,2,2)\n",
        "histo_peakrpm = plt.hist(fulljoin['peak-rpm'], \n",
        "         facecolor='peru', \n",
        "         edgecolor='blue', \n",
        "         bins=10)\n",
        "plt.xlabel('peak-rpm')\n",
        "plt.ylabel('count')\n",
        "\n",
        "f.add_subplot(2,2,3)\n",
        "histo_price = plt.hist(fulljoin['highway-mpg'], \n",
        "         facecolor='peru', \n",
        "         edgecolor='blue', \n",
        "         bins=10)\n",
        "plt.xlabel('highway-mpg')\n",
        "plt.ylabel('count')\n",
        "\n",
        "f.add_subplot(2,2,4)\n",
        "histo_price = plt.hist(fulljoin['city-mpg'], \n",
        "         facecolor='peru', \n",
        "         edgecolor='blue', \n",
        "         bins=10)\n",
        "plt.xlabel('city-mpg')\n",
        "plt.ylabel('count')\n",
        "\n",
        "\n",
        "\n",
        "plt.show()"
      ],
      "execution_count": 23,
      "outputs": [
        {
          "output_type": "display_data",
          "data": {
            "image/png": "[encoded data removed]",
            "text/plain": [
              "<Figure size 1440x720 with 4 Axes>"
            ]
          },
          "metadata": {
            "tags": [],
            "needs_background": "light"
          }
        }
      ]
    },
    {
      "cell_type": "markdown",
      "metadata": {
        "id": "V4UjhcwVi8fR"
      },
      "source": [
        "### Barplot"
      ]
    },
    {
      "cell_type": "code",
      "metadata": {
        "id": "qLecCOWri8fS",
        "colab": {
          "base_uri": "https://localhost:8080/",
          "height": 491
        },
        "outputId": "7408f188-8d50-4639-de0d-1e0598d4a441"
      },
      "source": [
        "f=plt.figure(figsize=(18,14))\n",
        "\n",
        "f.add_subplot(2,2,3)\n",
        "barplot_make = fulljoin['peak-rpm'].value_counts().plot(kind='bar');\n",
        "plt.xlabel('body-style')\n",
        "plt.ylabel('count')\n",
        "\n",
        "f.add_subplot(2,2,4)\n",
        "barplot_make = fulljoin['make'].value_counts().plot(kind='bar');\n",
        "plt.xlabel('make')\n",
        "plt.ylabel('count')"
      ],
      "execution_count": 24,
      "outputs": [
        {
          "output_type": "execute_result",
          "data": {
            "text/plain": [
              "Text(0, 0.5, 'count')"
            ]
          },
          "metadata": {
            "tags": []
          },
          "execution_count": 24
        },
        {
          "output_type": "display_data",
          "data": {
            "image/png": "[encoded data removed]",
            "text/plain": [
              "<Figure size 1296x1008 with 2 Axes>"
            ]
          },
          "metadata": {
            "tags": [],
            "needs_background": "light"
          }
        }
      ]
    },
    {
      "cell_type": "markdown",
      "metadata": {
        "id": "JGHJTOEQi8fW"
      },
      "source": [
        "### Boxplot"
      ]
    },
    {
      "cell_type": "code",
      "metadata": {
        "id": "5tBOz3L1i8fX",
        "colab": {
          "base_uri": "https://localhost:8080/",
          "height": 530
        },
        "outputId": "2ae1ecaa-b1be-44cd-a17d-da51c5a5acaa"
      },
      "source": [
        "f=plt.figure(figsize=(17,8))\n",
        "\n",
        "f.add_subplot(1,2,1)\n",
        "sns.boxplot(data = fulljoin, x = 'stroke', color = 'cyan', orient = \"h\").set_title('Boxplot - Stroke')\n",
        "\n",
        "f.add_subplot(1,2,2)\n",
        "sns.boxplot(data = fulljoin, x = 'price', color = 'red', orient = \"h\").set_title('Boxplot - Price')"
      ],
      "execution_count": 25,
      "outputs": [
        {
          "output_type": "execute_result",
          "data": {
            "text/plain": [
              "Text(0.5, 1.0, 'Boxplot - Price')"
            ]
          },
          "metadata": {
            "tags": []
          },
          "execution_count": 25
        },
        {
          "output_type": "display_data",
          "data": {
            "image/png": "[encoded data removed]",
            "text/plain": [
              "<Figure size 1224x576 with 2 Axes>"
            ]
          },
          "metadata": {
            "tags": [],
            "needs_background": "light"
          }
        }
      ]
    },
    {
      "cell_type": "code",
      "metadata": {
        "id": "RHIykgcZi8fb"
      },
      "source": [
        "f=plt.figure(figsize=(20,13))\n",
        "f.add_subplot(3,1,1)\n",
        "g = sns.boxplot(y=fulljoin[\"horsepower\"], x=fulljoin['make'])\n",
        "f.add_subplot(3,1,2)\n",
        "g = sns.boxplot(y=fulljoin[\"horsepower\"], x=fulljoin['body-style'])\n",
        "plt.xticks(rotation=60)"
      ],
      "execution_count": null,
      "outputs": []
    },
    {
      "cell_type": "code",
      "metadata": {
        "id": "VTfWJ65-Vul1"
      },
      "source": [
        "f=plt.figure(figsize=(4,7))\n",
        "f.add_subplot(1,1,1)\n",
        "g = sns.boxplot(y=fulljoin[\"horsepower\"], x=fulljoin[fulljoin.make == 'toyota'].make)"
      ],
      "execution_count": null,
      "outputs": []
    },
    {
      "cell_type": "markdown",
      "metadata": {
        "id": "mwiZ4y8qi8fd"
      },
      "source": [
        "### Stackplot"
      ]
    },
    {
      "cell_type": "code",
      "metadata": {
        "id": "NJcdWEcci8fe"
      },
      "source": [
        "x = fulljoin['make']"
      ],
      "execution_count": null,
      "outputs": []
    },
    {
      "cell_type": "code",
      "metadata": {
        "id": "MotTQsPGi8fg"
      },
      "source": [
        "y = np.vstack([fulljoin['highway-mpg'],\n",
        "               fulljoin['city-mpg']]) "
      ],
      "execution_count": null,
      "outputs": []
    },
    {
      "cell_type": "code",
      "metadata": {
        "id": "26ZtfAjsi8fm"
      },
      "source": [
        "plt.figure(figsize=(25,12))\n",
        "# Labels for each stack\n",
        "labels = ['highway-mpg', \n",
        "          'city-mpg', \n",
        "          ]\n",
        "\n",
        "# Colors for each stack\n",
        "colors = ['sandybrown', \n",
        "          'tomato', \n",
        "          'skyblue']\n",
        "\n",
        "#  Similar to pandas df.plot.area()\n",
        "plt.stackplot(x, y, \n",
        "              labels=labels,\n",
        "              colors=colors, \n",
        "              edgecolor='black')\n",
        "\n",
        "# Plots legend to the upperleft of Figure\n",
        "plt.legend(loc=2)\n",
        "\n",
        "plt.show()"
      ],
      "execution_count": null,
      "outputs": []
    },
    {
      "cell_type": "markdown",
      "metadata": {
        "id": "aROJw2BFi8fq"
      },
      "source": [
        "### Correlation"
      ]
    },
    {
      "cell_type": "code",
      "metadata": {
        "id": "_9xge9IRi8fs"
      },
      "source": [
        "#create correlation with hitmap\n",
        "\n",
        "#create correlation\n",
        "corr = fulljoin.corr(method = 'pearson')\n",
        "\n",
        "fig, ax = plt.subplots(figsize = (15,12))\n",
        "fig.set_size_inches(25,10)\n",
        "sns.heatmap(corr,  vmax =  0.8, square = True, annot = True)"
      ],
      "execution_count": null,
      "outputs": []
    },
    {
      "cell_type": "markdown",
      "metadata": {
        "id": "a2bNebZFfAPG"
      },
      "source": [
        "\n",
        "\n",
        "---\n",
        "\n",
        "\n",
        "\n",
        "---\n",
        "\n",
        "\n",
        "\n",
        "\n"
      ]
    },
    {
      "cell_type": "markdown",
      "metadata": {
        "id": "sIkM4IAwi8fu"
      },
      "source": [
        "# PART 2 - Exploring the refined data"
      ]
    },
    {
      "cell_type": "markdown",
      "metadata": {
        "id": "Rij0KxyIdqTu"
      },
      "source": [
        "1.   Who has the most 4WD Car?\n",
        "4.   What is the Average price based on body-style ?\n",
        "1.   Who has the car brand with the highest price ?\n",
        "3.   What is the Average peak-rpm for ‘turbo’ style aspiration car ?\n",
        "2.   Who has the maximum horsepower for car with 6 cylinder engine ?\n",
        "5.   What is Average price based on body-style only for Honda car  ?\n"
      ]
    },
    {
      "cell_type": "markdown",
      "metadata": {
        "id": "p6uiY7r3rM4X"
      },
      "source": [
        "## Q1. Most 4WD Car"
      ]
    },
    {
      "cell_type": "code",
      "metadata": {
        "id": "opT0F3gWrM4b"
      },
      "source": [
        "## Filter manufacturer who has 4WD\n",
        "most_4WD = fulljoin.loc[fulljoin['drive-wheel'] == '4wd']\n",
        "most_4WD"
      ],
      "execution_count": null,
      "outputs": []
    },
    {
      "cell_type": "code",
      "metadata": {
        "id": "IQVhOytp4Kgo"
      },
      "source": [
        "## Count which manufacturer who has most 4WD and sort by largest\n",
        "most_4WD = most_4WD.groupby(['make'])['drive-wheel'].count().sort_values(ascending=False)\n",
        "most_4WD"
      ],
      "execution_count": null,
      "outputs": []
    },
    {
      "cell_type": "markdown",
      "metadata": {
        "id": "Wi9gwlbni8f5"
      },
      "source": [
        "## Q2. Average price based on body-style"
      ]
    },
    {
      "cell_type": "code",
      "metadata": {
        "id": "rNrILj9oi8f6"
      },
      "source": [
        "## Body style grouping\n",
        "bodystyle = fulljoin.groupby('body-style')\n",
        "\n",
        "## Get average value\n",
        "avg_price = bodystyle['price'].mean().sort_values(ascending=False)\n",
        "avg_price"
      ],
      "execution_count": null,
      "outputs": []
    },
    {
      "cell_type": "markdown",
      "metadata": {
        "id": "OxpE02kKi8fv"
      },
      "source": [
        "## Q3.  Car brand with highest price"
      ]
    },
    {
      "cell_type": "code",
      "metadata": {
        "id": "mBA51bsmi8fw"
      },
      "source": [
        "## Manufactrer grouping\n",
        "carbrand= fulljoin.groupby('make')\n",
        "\n",
        "## Get max value\n",
        "higgest_price = carbrand['price'].min().sort_values(ascending=True)\n",
        "higgest_price.head(5)\n",
        "\n",
        "## kalau mau nilai , ada detailnya.\n"
      ],
      "execution_count": null,
      "outputs": []
    },
    {
      "cell_type": "markdown",
      "metadata": {
        "id": "0dTpbvzdi8f2"
      },
      "source": [
        "## Q4. Average peak-rpm for ‘turbo’ style aspiration car "
      ]
    },
    {
      "cell_type": "code",
      "metadata": {
        "id": "3KbQSc_pi8f3"
      },
      "source": [
        "## Select where car aspiration is turbo\n",
        "turbo_style = fulljoin[fulljoin.aspiration == 'turbo']\n",
        "turbo_style"
      ],
      "execution_count": null,
      "outputs": []
    },
    {
      "cell_type": "code",
      "metadata": {
        "id": "6i3sYFhCb16Y"
      },
      "source": [
        "## Get average value\n",
        "avg_turbo = turbo_style['peak-rpm'].mean()\n",
        "avg_turbo"
      ],
      "execution_count": null,
      "outputs": []
    },
    {
      "cell_type": "markdown",
      "metadata": {
        "id": "4z0oVwZqi8fz"
      },
      "source": [
        "## Q5. Maximum horsepower for car with 6 cylinder engine "
      ]
    },
    {
      "cell_type": "code",
      "metadata": {
        "id": "CJ6TKggmi8fz"
      },
      "source": [
        "## Select where car horsepower is six\n",
        "six_cylinder = fulljoin[fulljoin.cylinder == 'six']\n",
        "six_cylinder"
      ],
      "execution_count": null,
      "outputs": []
    },
    {
      "cell_type": "code",
      "metadata": {
        "id": "jAhfVNwdcLL7"
      },
      "source": [
        "## Get max value\n",
        "max_cylinder = six_cylinder['horsepower'].max()\n",
        "max_cylinder"
      ],
      "execution_count": null,
      "outputs": []
    },
    {
      "cell_type": "code",
      "metadata": {
        "id": "bBOnmV_8ciO6"
      },
      "source": [
        "## Get max value with column value\n",
        "max_cylinder = six_cylinder[six_cylinder['horsepower']==six_cylinder['horsepower'].max()]\n",
        "max_cylinder"
      ],
      "execution_count": null,
      "outputs": []
    },
    {
      "cell_type": "markdown",
      "metadata": {
        "id": "Sxs8PiPni8f8"
      },
      "source": [
        "## Q6. Average price based on body-style only for Honda car (make=Honda)"
      ]
    },
    {
      "cell_type": "code",
      "metadata": {
        "id": "9qVqz342i8f8"
      },
      "source": [
        "## Select where car manufactuer is honda\n",
        "onlyhonda = fulljoin[fulljoin.make == 'honda']\n",
        "\n",
        "## Body style grouping\n",
        "bodystyle = onlyhonda.groupby('body-style')\n",
        "\n",
        "## Get average price value\n",
        "avg_price_honda = bodystyle['price'].mean()\n",
        "avg_price_honda"
      ],
      "execution_count": null,
      "outputs": []
    }
  ]
}